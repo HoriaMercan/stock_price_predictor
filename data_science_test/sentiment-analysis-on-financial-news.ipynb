{
 "cells": [
  {
   "cell_type": "code",
   "execution_count": 2,
   "metadata": {
    "dc": {
     "key": "3"
    },
    "tags": [
     "sample_code"
    ]
   },
   "outputs": [
    {
     "name": "stdout",
     "output_type": "stream",
     "text": [
      "ok!\n"
     ]
    }
   ],
   "source": [
    "# Import libraries\n",
    "import warnings\n",
    "warnings.filterwarnings(\"ignore\", category=FutureWarning)\n",
    "from bs4 import BeautifulSoup\n",
    "import pandas as pd\n",
    "import os\n",
    "\n",
    "html_tables = {}\n",
    "\n",
    "input_folder = \"./input\"\n",
    "\n",
    "# For every table in the datasets folder...\n",
    "for table_name in os.listdir(input_folder):\n",
    "    #this is the path to the file. Don't touch!\n",
    "    table_path = f'./input/{table_name}'\n",
    "    \n",
    "    # Open as a python file in read-only mode\n",
    "    table_file = open(table_path, 'r')\n",
    "    \n",
    "    # Read the contents of the file into 'html'\n",
    "    html = BeautifulSoup(open(table_path, 'r'))\n",
    "    \n",
    "    # Find 'news-table' in the Soup and load it into 'html_table'\n",
    "    html_table = html.find(id='news-table')\n",
    "    \n",
    "    # Add the table to our dictionary\n",
    "    html_tables[table_name] = html_table   \n",
    "\n",
    "print('ok!')"
   ]
  },
  {
   "cell_type": "code",
   "execution_count": 3,
   "metadata": {
    "dc": {
     "key": "10"
    },
    "tags": [
     "sample_code"
    ]
   },
   "outputs": [
    {
     "name": "stdout",
     "output_type": "stream",
     "text": [
      "0:\n",
      "Billionaire investor questions Elon Musk getting 'a pass' after bombshell tweets\n",
      "Sep-21-18 09:56PM  \n",
      "1:\n",
      "Broadcoms Stock Looks Like a Winner\n",
      "09:30PM  \n",
      "2:\n",
      "SHAREHOLDER ALERT:  Pomerantz Law Firm Reminds Shareholders with Losses on their Investment in Tesla, Inc. of Class Action Lawsuit and Upcoming Deadline  TSLA\n",
      "05:30PM  \n",
      "3:\n",
      "Tesla's People Problem and the Inscrutable Musk: 2 Things That Make You Go Hmmm\n",
      "05:30PM  \n"
     ]
    }
   ],
   "source": [
    "# Read one single day of headlines \n",
    "tsla = html_tables['tsla_22sep.html']\n",
    "# Get all the table rows tagged in HTML with <tr> into 'tesla_tr'\n",
    "tsla_tr = tsla.findAll('tr')\n",
    "\n",
    "# For each row...\n",
    "\n",
    "for i, table_row in enumerate(tsla_tr):\n",
    "    # Read the text of the element 'a' into 'link_text'\n",
    "    link_text = table_row.a.get_text()\n",
    "    # Read the text of the element 'td' into 'data_text'\n",
    "    data_text = table_row.td.get_text()\n",
    "    # Print the count\n",
    "    print(f'{i}:')\n",
    "    # Print the contents of 'link_text' and 'data_text' \n",
    "    print(link_text)\n",
    "    print(data_text)\n",
    "    # The following exits the loop after three rows to prevent spamming the notebook, do not touch\n",
    "    if i == 3:\n",
    "        break\n",
    "    "
   ]
  },
  {
   "cell_type": "code",
   "execution_count": 4,
   "metadata": {
    "dc": {
     "key": "17"
    },
    "tags": [
     "sample_code"
    ]
   },
   "outputs": [
    {
     "name": "stdout",
     "output_type": "stream",
     "text": [
      "[['tsla', 'Jan-04-19', '08:36PM', 'Why Tesla Stock Popped 6%'], ['tsla', 'Jan-04-19', '07:42PM', \"Tesla urges tariff exemption for Chinese-made car computer 'brain'\"], ['tsla', 'Jan-04-19', '07:17PM', \"Tesla urges tariff exemption for Chinese-made car computer 'brain'\"], ['tsla', 'Jan-04-19', '07:07PM', \"Tesla urges tariff exemption for Chinese-made car computer 'brain'\"], ['tsla', 'Jan-04-19', '06:19PM', 'Elon Musk Isnt Keen on Investors Dragging Girlfriend Into Tweet Lawsuit'], ['tsla', 'Jan-04-19', '06:02PM', 'CNBC Tech Check Evening Edition: January 04, 2019'], ['tsla', 'Jan-04-19', '04:26PM', 'Tesla Ready To Deliver Model 3 Vehicles To China, Europe'], ['tsla', 'Jan-04-19', '04:06PM', 'Stock Market Rally Extends On Fed Chairman Powell, Jobs; Apple, Tesla, Delta Disappoint; Bristol-Myers Buys Celgene: Weekly Review'], ['tsla', 'Jan-04-19', '03:56PM', 'Buy Tesla (TSLA) Stock in 2019 on International Model 3 Expansion?'], ['tsla', 'Jan-04-19', '12:32PM', 'AT&T Stock Still Is One of the Best Downturn Plays']]\n"
     ]
    }
   ],
   "source": [
    "# Hold the parsed news into a list\n",
    "parsed_news = []\n",
    "# Iterate through the news\n",
    "for file_name, news_table in html_tables.items():\n",
    "    # Iterate through all tr tags in 'news_table'\n",
    "    for x in news_table.findAll('tr'):\n",
    "        \n",
    "        # Read the text from the tr tag into text\n",
    "        text = x.get_text()\n",
    "\n",
    "        # Split the text in the td tag into a list \n",
    "        date_scrape = x.td.text.split()\n",
    "        headline = x.a.text\n",
    "\n",
    "        # If the length of 'date_scrape' is 1, load 'time' as the only element\n",
    "        # If not, load 'date' as the 1st element and 'time' as the second\n",
    "        \n",
    "        if len(date_scrape) == 1:\n",
    "            time = date_scrape[0]\n",
    "            \n",
    "        else:\n",
    "            date = date_scrape[0]\n",
    "            time = date_scrape[1]\n",
    "        \n",
    "        # Extract the ticker from the file name, get the string up to the 1st '_'  \n",
    "        ticker = file_name.split('_')[0]\n",
    "        \n",
    "        # Append ticker, date, time and headline as a list to the 'parsed_news' list\n",
    "        parsed_news.append([ticker, date, time, headline])\n",
    "\n",
    "print(parsed_news[:10])"
   ]
  },
  {
   "cell_type": "code",
   "execution_count": 10,
   "metadata": {
    "dc": {
     "key": "24"
    },
    "tags": [
     "sample_code"
    ]
   },
   "outputs": [
    {
     "name": "stderr",
     "output_type": "stream",
     "text": [
      "[nltk_data] Downloading package vader_lexicon to\n",
      "[nltk_data]     /home/horia/nltk_data...\n"
     ]
    },
    {
     "name": "stdout",
     "output_type": "stream",
     "text": [
      "ok!\n"
     ]
    }
   ],
   "source": [
    "# NLTK VADER for sentiment analysis\n",
    "from nltk.sentiment.vader import SentimentIntensityAnalyzer\n",
    "import nltk\n",
    "nltk.downloader.download('vader_lexicon')\n",
    "# New words and values\n",
    "new_words = {\n",
    "    'crushes': 10,\n",
    "    'beats': 5,\n",
    "    'misses': -5,\n",
    "    'trouble': -10,\n",
    "    'falls': -100,\n",
    "}\n",
    "# Instantiate the sentiment intensity analyzer with the existing lexicon\n",
    "vader = SentimentIntensityAnalyzer()\n",
    "# Update the lexicon\n",
    "vader.lexicon.update(new_words)\n",
    "\n",
    "print('ok!')"
   ]
  },
  {
   "cell_type": "code",
   "execution_count": 11,
   "metadata": {
    "dc": {
     "key": "31"
    },
    "tags": [
     "sample_code"
    ]
   },
   "outputs": [
    {
     "name": "stdout",
     "output_type": "stream",
     "text": [
      "  ticker        date     time  \\\n",
      "0   tsla  2019-01-04  08:36PM   \n",
      "1   tsla  2019-01-04  07:42PM   \n",
      "2   tsla  2019-01-04  07:17PM   \n",
      "3   tsla  2019-01-04  07:07PM   \n",
      "4   tsla  2019-01-04  06:19PM   \n",
      "\n",
      "                                            headline    neg    neu  pos  \\\n",
      "0                          Why Tesla Stock Popped 6%  0.000  1.000  0.0   \n",
      "1  Tesla urges tariff exemption for Chinese-made ...  0.000  1.000  0.0   \n",
      "2  Tesla urges tariff exemption for Chinese-made ...  0.000  1.000  0.0   \n",
      "3  Tesla urges tariff exemption for Chinese-made ...  0.000  1.000  0.0   \n",
      "4  Elon Musk Isnt Keen on Investors Dragging Girl...  0.308  0.692  0.0   \n",
      "\n",
      "   compound  \n",
      "0    0.0000  \n",
      "1    0.0000  \n",
      "2    0.0000  \n",
      "3    0.0000  \n",
      "4   -0.4606  \n"
     ]
    }
   ],
   "source": [
    "# Use these column names\n",
    "columns = ['ticker', 'date', 'time', 'headline']\n",
    "# Convert the list of lists into a DataFrame\n",
    "scored_news = pd.DataFrame(parsed_news, columns=columns)\n",
    "\n",
    "# Iterate through the headlines and get the polarity scores\n",
    "scores = scored_news['headline'].apply(vader.polarity_scores)\n",
    "\n",
    "# Convert the list of dicts into a DataFrame\n",
    "scores_df = pd.DataFrame.from_records(scores)\n",
    "\n",
    "# Join the DataFrames\n",
    "scored_news = scored_news.join(scores_df)\n",
    "\n",
    "# Convert the date column from string to datetime\n",
    "scored_news['date'] = pd.to_datetime(scored_news.date).dt.date\n",
    "print(scored_news.head())"
   ]
  },
  {
   "cell_type": "code",
   "execution_count": 34,
   "metadata": {
    "dc": {
     "key": "38"
    },
    "tags": [
     "sample_code"
    ]
   },
   "outputs": [
    {
     "data": {
      "text/plain": [
       "<Axes: xlabel='date'>"
      ]
     },
     "execution_count": 34,
     "metadata": {},
     "output_type": "execute_result"
    },
    {
     "data": {
      "image/png": "[encoded data removed]",
      "text/plain": [
       "<Figure size 1000x500 with 1 Axes>"
      ]
     },
     "metadata": {},
     "output_type": "display_data"
    }
   ],
   "source": [
    "import matplotlib.pyplot as plt\n",
    "import seaborn as sns\n",
    "\n",
    "%matplotlib inline\n",
    "\n",
    "# Group by date and ticker columns from scored_news and calculate the mean\n",
    "mean_c = scored_news.groupby(['date', 'ticker']).mean()\n",
    "\n",
    "# Unstack the column ticker\n",
    "mean_c = mean_c.unstack('ticker')\n",
    "\n",
    "# Get the cross-section of compound in the 'columns' axis\n",
    "mean_c = mean_c.xs('compound', axis='columns')\n",
    "# Plot a bar chart with pandas\n",
    "\n",
    "mean_c.plot(kind='bar', figsize=(10,5), width=1)"
   ]
  },
  {
   "cell_type": "code",
   "execution_count": 27,
   "metadata": {
    "dc": {
     "key": "45"
    },
    "tags": [
     "sample_code"
    ]
   },
   "outputs": [
    {
     "name": "stdout",
     "output_type": "stream",
     "text": [
      "Before we had 500 headlines, now we have 476\n"
     ]
    }
   ],
   "source": [
    "# Count the number of headlines in scored_news (store as integer)\n",
    "num_news_before = scored_news['headline'].count()\n",
    "\n",
    "# Drop duplicates based on ticker and headline\n",
    "scored_news_clean = scored_news.drop_duplicates(subset=['ticker','headline'])\n",
    "                      \n",
    "# Count number of headlines after dropping duplicates\n",
    "num_news_after = scored_news_clean['headline'].count()\n",
    "                                                        \n",
    "# Print before and after numbers to get an idea of how we did \n",
    "print(f\"Before we had {num_news_before} headlines, now we have {num_news_after}\")"
   ]
  },
  {
   "cell_type": "code",
   "execution_count": 54,
   "metadata": {
    "dc": {
     "key": "52"
    },
    "tags": [
     "sample_code"
    ]
   },
   "outputs": [
    {
     "name": "stdout",
     "output_type": "stream",
     "text": [
      "<bound method NDFrame.head of                time                                           headline    neg  \\\n",
      "date                                                                            \n",
      "2018-09-22  11:08AM  How former Facebook and Google engineer Bret T...  0.000   \n",
      "2018-09-22  12:02AM  White House Drafts Order To Look Into Google, ...  0.000   \n",
      "2018-09-21  06:21PM  Facebook Withdraws Direct Promotion of Politic...  0.000   \n",
      "2018-09-21  06:18PM  Facebook's Plan to Pull Back Campaign Support ...  0.000   \n",
      "2018-09-21  06:10PM                Does F.A.N.G. still stand? 8 trades  0.000   \n",
      "...             ...                                                ...    ...   \n",
      "2018-12-28  02:57PM  Accidental Instagram Update of Horizontal Scro...  0.157   \n",
      "2018-12-28  02:44PM  Zuckerberg Claims Facebook Has 'Fundamentally ...  0.000   \n",
      "2018-12-28  01:46PM  Facebook CEO Zuckerberg Says Problems Will Tak...  0.231   \n",
      "2018-12-28  01:30PM  Zuckerberg: Facebook can never fully stop use ...  0.000   \n",
      "2018-12-28  11:35AM              Why Investors Should Avoid Snap Stock  0.306   \n",
      "\n",
      "              neu    pos  compound  \n",
      "date                                \n",
      "2018-09-22  0.798  0.202    0.5106  \n",
      "2018-09-22  1.000  0.000    0.0000  \n",
      "2018-09-21  1.000  0.000    0.0000  \n",
      "2018-09-21  0.787  0.213    0.4019  \n",
      "2018-09-21  1.000  0.000    0.0000  \n",
      "...           ...    ...       ...  \n",
      "2018-12-28  0.843  0.000   -0.0772  \n",
      "2018-12-28  1.000  0.000    0.0000  \n",
      "2018-12-28  0.769  0.000   -0.4019  \n",
      "2018-12-28  0.839  0.161    0.2743  \n",
      "2018-12-28  0.694  0.000   -0.2960  \n",
      "\n",
      "[190 rows x 6 columns]>\n",
      "<class 'pandas.core.frame.DataFrame'>\n",
      "Index: 10 entries, 00:02:00 to 18:21:00\n",
      "Data columns (total 5 columns):\n",
      " #   Column    Non-Null Count  Dtype  \n",
      "---  ------    --------------  -----  \n",
      " 0   headline  10 non-null     object \n",
      " 1   neg       10 non-null     float64\n",
      " 2   neu       10 non-null     float64\n",
      " 3   pos       10 non-null     float64\n",
      " 4   compound  10 non-null     float64\n",
      "dtypes: float64(4), object(1)\n",
      "memory usage: 480.0+ bytes\n",
      "None\n"
     ]
    }
   ],
   "source": [
    "# Set the index to ticker and date\n",
    "single_day = scored_news_clean.set_index(['ticker', 'date'])\n",
    "\n",
    "# de aici incepe particular\n",
    "# Cross-section the fb row\n",
    "single_day = single_day.xs('fb')\n",
    "\n",
    "# Select the 3rd of January of 2019\n",
    "print(single_day.head)\n",
    "single_day.columns\n",
    "# single_day['date'] = pd.to_datetime(single_day['date'], format='%Y-%m-%d')\n",
    "single_day = single_day[0:10]\n",
    "\n",
    "# Convert the datetime string to just the time\n",
    "single_day['time'] = pd.to_datetime(single_day['time']).dt.time\n",
    "\n",
    "# Set the index to time and \n",
    "single_day = single_day.set_index('time')\n",
    "\n",
    "# Sort it\n",
    "single_day = single_day.sort_index()\n",
    "print(single_day.info())"
   ]
  },
  {
   "cell_type": "code",
   "execution_count": 55,
   "metadata": {
    "dc": {
     "key": "59"
    },
    "tags": [
     "sample_code"
    ]
   },
   "outputs": [
    {
     "data": {
      "text/plain": [
       "<Axes: xlabel='time'>"
      ]
     },
     "execution_count": 55,
     "metadata": {},
     "output_type": "execute_result"
    },
    {
     "data": {
      "image/png": "[encoded data removed]",
      "text/plain": [
       "<Figure size 1000x500 with 1 Axes>"
      ]
     },
     "metadata": {},
     "output_type": "display_data"
    }
   ],
   "source": [
    "TITLE = \"Positive, negative and neutral sentiment for FB on 2019-01-03\"\n",
    "COLORS = [\"red\", \"orange\", \"green\"]\n",
    "\n",
    "# Drop the columns that aren't useful for the plot\n",
    "plot_day = single_day.drop(['headline', 'compound'], axis=1)\n",
    "\n",
    "# Change the column names to 'negative', 'positive', and 'neutral'\n",
    "plot_day.columns = ['negative', 'positive', 'neutral']\n",
    "\n",
    "# Plot a stacked bar chart\n",
    "plot_day.plot(kind='bar', color=COLORS, figsize=(10,5), width=1)\n"
   ]
  }
 ],
 "metadata": {
  "kernelspec": {
   "display_name": "Python 3 (ipykernel)",
   "language": "python",
   "name": "python3"
  },
  "language_info": {
   "codemirror_mode": {
    "name": "ipython",
    "version": 3
   },
   "file_extension": ".py",
   "mimetype": "text/x-python",
   "name": "python",
   "nbconvert_exporter": "python",
   "pygments_lexer": "ipython3",
   "version": "3.10.12"
  }
 },
 "nbformat": 4,
 "nbformat_minor": 4
}
